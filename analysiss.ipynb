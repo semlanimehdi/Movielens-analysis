{
 "cells": [
  {
   "cell_type": "code",
   "execution_count": 1,
   "id": "a9bf50bf",
   "metadata": {},
   "outputs": [
    {
     "name": "stdout",
     "output_type": "stream",
     "text": [
      " Volume in drive C has no label.\n",
      " Volume Serial Number is 8260-B43C\n",
      "\n",
      " Directory of C:\\Users\\vPro\\Desktop\\data_sets\\ml-25m\n",
      "\n",
      "01/14/2023  01:41 AM    <DIR>          .\n",
      "01/14/2023  01:41 AM    <DIR>          ..\n",
      "01/14/2023  01:41 AM               124 1.sql\n",
      "11/21/2019  11:35 PM       435,164,157 genome-scores.csv\n",
      "11/21/2019  11:35 PM            18,103 genome-tags.csv\n",
      "11/21/2019  11:40 PM         1,368,578 links.csv\n",
      "11/21/2019  11:32 PM         3,038,099 movies.csv\n",
      "11/21/2019  11:26 PM       678,260,987 ratings.csv\n",
      "11/21/2019  11:41 PM            10,460 README.txt\n",
      "12/31/2022  03:30 PM        37,174,022 tags.csv\n",
      "               8 File(s)  1,155,034,530 bytes\n",
      "               2 Dir(s)  42,585,714,688 bytes free\n"
     ]
    }
   ],
   "source": [
    "ls C:\\Users\\vPro\\Desktop\\data_sets\\ml-25m"
   ]
  },
  {
   "cell_type": "code",
   "execution_count": 31,
   "id": "f3ac28bb",
   "metadata": {},
   "outputs": [],
   "source": [
    "import pandas as pd\n",
    "path = \"C:/Users/vPro/Desktop/data_sets/ml-25m/\"\n",
    "column_movies = ['movieId', 'title', 'genre']\n",
    "column_ratings = ['user_id', 'movieId', 'rating', 'timestamp']\n",
    "column_links = ['movieId', 'imdbId', 'tmdbId']\n",
    "\n",
    "ratings = pd.read_csv(path+\"ratings.csv\", sep=\",\",names=column_ratings,low_memory=False,skiprows=1)\n",
    "links = pd.read_csv(path+\"links.csv\", sep=\",\",names=column_links,skiprows=1)\n",
    "tags = pd.read_csv(path+\"tags.csv\", sep=\",\", on_bad_lines='skip',skiprows=1)\n",
    "genome_tags = pd.read_csv(path+\"genome-tags.csv\", sep=\",\",skiprows=1)\n",
    "genome_scores = pd.read_csv(path+\"genome-scores.csv\", sep=\",\",skiprows=1)\n"
   ]
  },
  {
   "cell_type": "code",
   "execution_count": 65,
   "id": "38ec35cd",
   "metadata": {},
   "outputs": [],
   "source": [
    "movies = pd.read_csv(path+\"movies.csv\", sep=\",\", encoding=\"latin\"  , on_bad_lines='skip',names=column_movies,skiprows=1)\n"
   ]
  },
  {
   "cell_type": "code",
   "execution_count": 66,
   "id": "8bd3c897",
   "metadata": {},
   "outputs": [
    {
     "data": {
      "text/html": [
       "<div>\n",
       "<style scoped>\n",
       "    .dataframe tbody tr th:only-of-type {\n",
       "        vertical-align: middle;\n",
       "    }\n",
       "\n",
       "    .dataframe tbody tr th {\n",
       "        vertical-align: top;\n",
       "    }\n",
       "\n",
       "    .dataframe thead th {\n",
       "        text-align: right;\n",
       "    }\n",
       "</style>\n",
       "<table border=\"1\" class=\"dataframe\">\n",
       "  <thead>\n",
       "    <tr style=\"text-align: right;\">\n",
       "      <th></th>\n",
       "      <th>movieId</th>\n",
       "      <th>title</th>\n",
       "      <th>genre</th>\n",
       "    </tr>\n",
       "  </thead>\n",
       "  <tbody>\n",
       "    <tr>\n",
       "      <th>0</th>\n",
       "      <td>1</td>\n",
       "      <td>Toy Story (1995)</td>\n",
       "      <td>Adventure|Animation|Children|Comedy|Fantasy</td>\n",
       "    </tr>\n",
       "    <tr>\n",
       "      <th>1</th>\n",
       "      <td>2</td>\n",
       "      <td>Jumanji (1995)</td>\n",
       "      <td>Adventure|Children|Fantasy</td>\n",
       "    </tr>\n",
       "    <tr>\n",
       "      <th>2</th>\n",
       "      <td>3</td>\n",
       "      <td>Grumpier Old Men (1995)</td>\n",
       "      <td>Comedy|Romance</td>\n",
       "    </tr>\n",
       "    <tr>\n",
       "      <th>3</th>\n",
       "      <td>4</td>\n",
       "      <td>Waiting to Exhale (1995)</td>\n",
       "      <td>Comedy|Drama|Romance</td>\n",
       "    </tr>\n",
       "    <tr>\n",
       "      <th>4</th>\n",
       "      <td>5</td>\n",
       "      <td>Father of the Bride Part II (1995)</td>\n",
       "      <td>Comedy</td>\n",
       "    </tr>\n",
       "  </tbody>\n",
       "</table>\n",
       "</div>"
      ],
      "text/plain": [
       "   movieId                               title  \\\n",
       "0        1                    Toy Story (1995)   \n",
       "1        2                      Jumanji (1995)   \n",
       "2        3             Grumpier Old Men (1995)   \n",
       "3        4            Waiting to Exhale (1995)   \n",
       "4        5  Father of the Bride Part II (1995)   \n",
       "\n",
       "                                         genre  \n",
       "0  Adventure|Animation|Children|Comedy|Fantasy  \n",
       "1                   Adventure|Children|Fantasy  \n",
       "2                               Comedy|Romance  \n",
       "3                         Comedy|Drama|Romance  \n",
       "4                                       Comedy  "
      ]
     },
     "execution_count": 66,
     "metadata": {},
     "output_type": "execute_result"
    }
   ],
   "source": [
    "movies.head()"
   ]
  },
  {
   "cell_type": "code",
   "execution_count": null,
   "id": "6e6eed84",
   "metadata": {},
   "outputs": [],
   "source": []
  },
  {
   "cell_type": "code",
   "execution_count": 5,
   "id": "18256f2f",
   "metadata": {},
   "outputs": [
    {
     "name": "stdout",
     "output_type": "stream",
     "text": [
      "   user_id  movieId  rating   timestamp\n",
      "0        1      296     5.0  1147880044\n",
      "1        1      306     3.5  1147868817\n",
      "2        1      307     5.0  1147868828\n",
      "3        1      665     5.0  1147878820\n",
      "4        1      899     3.5  1147868510\n",
      "###################################################\n",
      "   movieId                               title  \\\n",
      "0        1                    Toy Story (1995)   \n",
      "1        2                      Jumanji (1995)   \n",
      "2        3             Grumpier Old Men (1995)   \n",
      "3        4            Waiting to Exhale (1995)   \n",
      "4        5  Father of the Bride Part II (1995)   \n",
      "\n",
      "                                         genre  \n",
      "0  Adventure|Animation|Children|Comedy|Fantasy  \n",
      "1                   Adventure|Children|Fantasy  \n",
      "2                               Comedy|Romance  \n",
      "3                         Comedy|Drama|Romance  \n",
      "4                                       Comedy  \n",
      "###################################################\n",
      "   movieId  imdbId   tmdbId\n",
      "0        1  114709    862.0\n",
      "1        2  113497   8844.0\n",
      "2        3  113228  15602.0\n",
      "3        4  114885  31357.0\n",
      "4        5  113041  11862.0\n",
      "###################################################\n"
     ]
    }
   ],
   "source": [
    "for df in [ ratings, movies, links]:\n",
    "    print(df.head())\n",
    "    print(\"###################################################\")\n"
   ]
  },
  {
   "cell_type": "code",
   "execution_count": 6,
   "id": "90a8a6d3",
   "metadata": {},
   "outputs": [
    {
     "name": "stdout",
     "output_type": "stream",
     "text": [
      "(25000095, 4)\n",
      "(62423, 3)\n",
      "(62423, 3)\n",
      "(1048574, 4)\n",
      "(1127, 2)\n",
      "(15584447, 3)\n"
     ]
    }
   ],
   "source": [
    "print(ratings.shape)\n",
    "print(movies.shape)\n",
    "print(links.shape)\n",
    "print(tags.shape)\n",
    "print(genome_tags.shape)\n",
    "print(genome_scores.shape)"
   ]
  },
  {
   "cell_type": "code",
   "execution_count": 7,
   "id": "bcf44341",
   "metadata": {},
   "outputs": [],
   "source": [
    "data = pd.merge(pd.merge(ratings, movies), links)\n"
   ]
  },
  {
   "cell_type": "code",
   "execution_count": 8,
   "id": "2da895fa",
   "metadata": {},
   "outputs": [
    {
     "data": {
      "text/html": [
       "<div>\n",
       "<style scoped>\n",
       "    .dataframe tbody tr th:only-of-type {\n",
       "        vertical-align: middle;\n",
       "    }\n",
       "\n",
       "    .dataframe tbody tr th {\n",
       "        vertical-align: top;\n",
       "    }\n",
       "\n",
       "    .dataframe thead th {\n",
       "        text-align: right;\n",
       "    }\n",
       "</style>\n",
       "<table border=\"1\" class=\"dataframe\">\n",
       "  <thead>\n",
       "    <tr style=\"text-align: right;\">\n",
       "      <th></th>\n",
       "      <th>user_id</th>\n",
       "      <th>movieId</th>\n",
       "      <th>rating</th>\n",
       "      <th>timestamp</th>\n",
       "      <th>title</th>\n",
       "      <th>genre</th>\n",
       "      <th>imdbId</th>\n",
       "      <th>tmdbId</th>\n",
       "    </tr>\n",
       "  </thead>\n",
       "  <tbody>\n",
       "    <tr>\n",
       "      <th>0</th>\n",
       "      <td>1</td>\n",
       "      <td>296</td>\n",
       "      <td>5.0</td>\n",
       "      <td>1147880044</td>\n",
       "      <td>Pulp Fiction (1994)</td>\n",
       "      <td>Comedy|Crime|Drama|Thriller</td>\n",
       "      <td>110912</td>\n",
       "      <td>680.0</td>\n",
       "    </tr>\n",
       "    <tr>\n",
       "      <th>1</th>\n",
       "      <td>3</td>\n",
       "      <td>296</td>\n",
       "      <td>5.0</td>\n",
       "      <td>1439474476</td>\n",
       "      <td>Pulp Fiction (1994)</td>\n",
       "      <td>Comedy|Crime|Drama|Thriller</td>\n",
       "      <td>110912</td>\n",
       "      <td>680.0</td>\n",
       "    </tr>\n",
       "    <tr>\n",
       "      <th>2</th>\n",
       "      <td>4</td>\n",
       "      <td>296</td>\n",
       "      <td>4.0</td>\n",
       "      <td>1573938898</td>\n",
       "      <td>Pulp Fiction (1994)</td>\n",
       "      <td>Comedy|Crime|Drama|Thriller</td>\n",
       "      <td>110912</td>\n",
       "      <td>680.0</td>\n",
       "    </tr>\n",
       "    <tr>\n",
       "      <th>3</th>\n",
       "      <td>5</td>\n",
       "      <td>296</td>\n",
       "      <td>4.0</td>\n",
       "      <td>830786155</td>\n",
       "      <td>Pulp Fiction (1994)</td>\n",
       "      <td>Comedy|Crime|Drama|Thriller</td>\n",
       "      <td>110912</td>\n",
       "      <td>680.0</td>\n",
       "    </tr>\n",
       "    <tr>\n",
       "      <th>4</th>\n",
       "      <td>7</td>\n",
       "      <td>296</td>\n",
       "      <td>4.0</td>\n",
       "      <td>835444730</td>\n",
       "      <td>Pulp Fiction (1994)</td>\n",
       "      <td>Comedy|Crime|Drama|Thriller</td>\n",
       "      <td>110912</td>\n",
       "      <td>680.0</td>\n",
       "    </tr>\n",
       "  </tbody>\n",
       "</table>\n",
       "</div>"
      ],
      "text/plain": [
       "   user_id  movieId  rating   timestamp                title  \\\n",
       "0        1      296     5.0  1147880044  Pulp Fiction (1994)   \n",
       "1        3      296     5.0  1439474476  Pulp Fiction (1994)   \n",
       "2        4      296     4.0  1573938898  Pulp Fiction (1994)   \n",
       "3        5      296     4.0   830786155  Pulp Fiction (1994)   \n",
       "4        7      296     4.0   835444730  Pulp Fiction (1994)   \n",
       "\n",
       "                         genre  imdbId  tmdbId  \n",
       "0  Comedy|Crime|Drama|Thriller  110912   680.0  \n",
       "1  Comedy|Crime|Drama|Thriller  110912   680.0  \n",
       "2  Comedy|Crime|Drama|Thriller  110912   680.0  \n",
       "3  Comedy|Crime|Drama|Thriller  110912   680.0  \n",
       "4  Comedy|Crime|Drama|Thriller  110912   680.0  "
      ]
     },
     "execution_count": 8,
     "metadata": {},
     "output_type": "execute_result"
    }
   ],
   "source": [
    "data.head()"
   ]
  },
  {
   "cell_type": "code",
   "execution_count": 9,
   "id": "c8ffb947",
   "metadata": {},
   "outputs": [
    {
     "data": {
      "text/html": [
       "<div>\n",
       "<style scoped>\n",
       "    .dataframe tbody tr th:only-of-type {\n",
       "        vertical-align: middle;\n",
       "    }\n",
       "\n",
       "    .dataframe tbody tr th {\n",
       "        vertical-align: top;\n",
       "    }\n",
       "\n",
       "    .dataframe thead th {\n",
       "        text-align: right;\n",
       "    }\n",
       "</style>\n",
       "<table border=\"1\" class=\"dataframe\">\n",
       "  <thead>\n",
       "    <tr style=\"text-align: right;\">\n",
       "      <th></th>\n",
       "      <th>user_id</th>\n",
       "      <th>movieId</th>\n",
       "      <th>rating</th>\n",
       "      <th>timestamp</th>\n",
       "      <th>title</th>\n",
       "      <th>genre</th>\n",
       "      <th>imdbId</th>\n",
       "      <th>tmdbId</th>\n",
       "    </tr>\n",
       "  </thead>\n",
       "  <tbody>\n",
       "    <tr>\n",
       "      <th>25000090</th>\n",
       "      <td>162358</td>\n",
       "      <td>200192</td>\n",
       "      <td>2.0</td>\n",
       "      <td>1553453039</td>\n",
       "      <td>Den frusna leoparden (1986)</td>\n",
       "      <td>(no genres listed)</td>\n",
       "      <td>91087</td>\n",
       "      <td>54668.0</td>\n",
       "    </tr>\n",
       "    <tr>\n",
       "      <th>25000091</th>\n",
       "      <td>162358</td>\n",
       "      <td>200194</td>\n",
       "      <td>2.0</td>\n",
       "      <td>1553453843</td>\n",
       "      <td>Tough Luck (2004)</td>\n",
       "      <td>Action|Adventure|Thriller</td>\n",
       "      <td>376263</td>\n",
       "      <td>54772.0</td>\n",
       "    </tr>\n",
       "    <tr>\n",
       "      <th>25000092</th>\n",
       "      <td>162386</td>\n",
       "      <td>139970</td>\n",
       "      <td>3.5</td>\n",
       "      <td>1549215965</td>\n",
       "      <td>I Don't Speak English (1995)</td>\n",
       "      <td>Comedy</td>\n",
       "      <td>113436</td>\n",
       "      <td>58009.0</td>\n",
       "    </tr>\n",
       "    <tr>\n",
       "      <th>25000093</th>\n",
       "      <td>162386</td>\n",
       "      <td>200726</td>\n",
       "      <td>4.0</td>\n",
       "      <td>1554651417</td>\n",
       "      <td>The Graduates (1995)</td>\n",
       "      <td>Children|Drama</td>\n",
       "      <td>113623</td>\n",
       "      <td>56374.0</td>\n",
       "    </tr>\n",
       "    <tr>\n",
       "      <th>25000094</th>\n",
       "      <td>162386</td>\n",
       "      <td>200728</td>\n",
       "      <td>4.0</td>\n",
       "      <td>1554651472</td>\n",
       "      <td>Il pesce innamorato (1999)</td>\n",
       "      <td>(no genres listed)</td>\n",
       "      <td>210225</td>\n",
       "      <td>60203.0</td>\n",
       "    </tr>\n",
       "  </tbody>\n",
       "</table>\n",
       "</div>"
      ],
      "text/plain": [
       "          user_id  movieId  rating   timestamp                         title  \\\n",
       "25000090   162358   200192     2.0  1553453039   Den frusna leoparden (1986)   \n",
       "25000091   162358   200194     2.0  1553453843             Tough Luck (2004)   \n",
       "25000092   162386   139970     3.5  1549215965  I Don't Speak English (1995)   \n",
       "25000093   162386   200726     4.0  1554651417          The Graduates (1995)   \n",
       "25000094   162386   200728     4.0  1554651472    Il pesce innamorato (1999)   \n",
       "\n",
       "                              genre  imdbId   tmdbId  \n",
       "25000090         (no genres listed)   91087  54668.0  \n",
       "25000091  Action|Adventure|Thriller  376263  54772.0  \n",
       "25000092                     Comedy  113436  58009.0  \n",
       "25000093             Children|Drama  113623  56374.0  \n",
       "25000094         (no genres listed)  210225  60203.0  "
      ]
     },
     "execution_count": 9,
     "metadata": {},
     "output_type": "execute_result"
    }
   ],
   "source": [
    "data.tail()"
   ]
  },
  {
   "cell_type": "code",
   "execution_count": 10,
   "id": "d810c3b6",
   "metadata": {},
   "outputs": [
    {
     "data": {
      "text/plain": [
       "user_id                              411\n",
       "movieId                              296\n",
       "rating                               4.5\n",
       "timestamp                     1294313494\n",
       "title                Pulp Fiction (1994)\n",
       "genre        Comedy|Crime|Drama|Thriller\n",
       "imdbId                            110912\n",
       "tmdbId                             680.0\n",
       "Name: 200, dtype: object"
      ]
     },
     "execution_count": 10,
     "metadata": {},
     "output_type": "execute_result"
    }
   ],
   "source": [
    "data.iloc[200]\n"
   ]
  },
  {
   "cell_type": "raw",
   "id": "475162b1",
   "metadata": {},
   "source": [
    "DESCRIPTIVE ANALYSIS"
   ]
  },
  {
   "cell_type": "raw",
   "id": "b228a1af",
   "metadata": {},
   "source": [
    "RATINGS ANALYSIS"
   ]
  },
  {
   "cell_type": "code",
   "execution_count": 11,
   "id": "d60ecaae",
   "metadata": {},
   "outputs": [
    {
     "data": {
      "text/plain": [
       "4.0    6639798\n",
       "3.0    4896928\n",
       "5.0    3612474\n",
       "3.5    3177318\n",
       "4.5    2200539\n",
       "2.0    1640868\n",
       "2.5    1262797\n",
       "1.0     776815\n",
       "1.5     399490\n",
       "0.5     393068\n",
       "Name: rating, dtype: int64"
      ]
     },
     "execution_count": 11,
     "metadata": {},
     "output_type": "execute_result"
    }
   ],
   "source": [
    "#RATING DISTRIBUTION\n",
    "ratings['rating'].value_counts()\n"
   ]
  },
  {
   "cell_type": "code",
   "execution_count": 12,
   "id": "7631cabe",
   "metadata": {
    "scrolled": true
   },
   "outputs": [
    {
     "data": {
      "image/png": "[encoded data removed]",
      "text/plain": [
       "<Figure size 640x480 with 1 Axes>"
      ]
     },
     "metadata": {},
     "output_type": "display_data"
    }
   ],
   "source": [
    "import matplotlib.pyplot as plt\n",
    "ratings['rating'].hist(bins=5)\n",
    "plt.title('Distribution of Ratings')\n",
    "plt.xlabel('Rating')\n",
    "plt.ylabel('Count')\n",
    "plt.show()"
   ]
  },
  {
   "cell_type": "raw",
   "id": "72b87ac0",
   "metadata": {},
   "source": [
    " DISTRIBUTION OVER TIME\n"
   ]
  },
  {
   "cell_type": "code",
   "execution_count": 32,
   "id": "e8c9cb76",
   "metadata": {},
   "outputs": [],
   "source": [
    "#Convert timestamp in datetime\n",
    "ratings[\"timestamp\"] = pd.to_datetime(ratings[\"timestamp\"],unit='s')\n",
    "\n",
    "# group by month and year\n",
    "month_year = ratings.groupby(ratings.timestamp.dt.to_period(\"M\"))[\"rating\"].mean()\n"
   ]
  },
  {
   "cell_type": "code",
   "execution_count": 33,
   "id": "a25bd4ee",
   "metadata": {},
   "outputs": [
    {
     "data": {
      "image/png": "[encoded data removed]",
      "text/plain": [
       "<Figure size 640x480 with 1 Axes>"
      ]
     },
     "metadata": {},
     "output_type": "display_data"
    },
    {
     "name": "stdout",
     "output_type": "stream",
     "text": [
      "timestamp\n",
      "1995-01    3.666667\n",
      "1996-01    4.166667\n",
      "1996-02    3.602649\n",
      "1996-03    3.925154\n",
      "1996-04    3.795461\n",
      "             ...   \n",
      "2019-07    3.589886\n",
      "2019-08    3.537128\n",
      "2019-09    3.598102\n",
      "2019-10    3.547461\n",
      "2019-11    3.587987\n",
      "Freq: M, Name: rating, Length: 287, dtype: float64\n"
     ]
    }
   ],
   "source": [
    "# create line chart\n",
    "plt.plot(month_year.index.to_timestamp(), month_year.values)\n",
    "plt.xlabel('Year-Month')\n",
    "plt.ylabel('Average Rating')\n",
    "plt.title('Average Movie Rating Over Time')\n",
    "plt.show()\n",
    "print(month_year)"
   ]
  },
  {
   "cell_type": "code",
   "execution_count": 14,
   "id": "f0a5ab17",
   "metadata": {},
   "outputs": [
    {
     "data": {
      "text/plain": [
       "user_id\n",
       "1         3.814286\n",
       "2         3.630435\n",
       "3         3.697409\n",
       "4         3.378099\n",
       "5         3.752475\n",
       "            ...   \n",
       "162537    4.039604\n",
       "162538    3.415584\n",
       "162539    4.510638\n",
       "162540    3.829545\n",
       "162541    3.365385\n",
       "Name: rating, Length: 162541, dtype: float64"
      ]
     },
     "execution_count": 14,
     "metadata": {},
     "output_type": "execute_result"
    }
   ],
   "source": [
    "#RATINGS DISTRIBUTION BY USERS\n",
    "user_ratings = ratings.groupby('user_id')['rating'].mean()\n",
    "user_ratings"
   ]
  },
  {
   "cell_type": "code",
   "execution_count": 15,
   "id": "393fd636",
   "metadata": {},
   "outputs": [
    {
     "data": {
      "image/png": "[encoded data removed]",
      "text/plain": [
       "<Figure size 640x480 with 1 Axes>"
      ]
     },
     "metadata": {},
     "output_type": "display_data"
    }
   ],
   "source": [
    "import matplotlib.pyplot as plt\n",
    "\n",
    "user_ratings = ratings.groupby('user_id')['rating'].mean()\n",
    "plt.hist(user_ratings)\n",
    "plt.xlabel('Average rating')\n",
    "plt.ylabel('Number of users')\n",
    "plt.title('Distribution of user ratings')\n",
    "plt.show()\n"
   ]
  },
  {
   "cell_type": "code",
   "execution_count": 16,
   "id": "f98f0fa5",
   "metadata": {},
   "outputs": [],
   "source": [
    "data[\"genre\"] = data[\"genre\"].str.split(\"|\")\n",
    "\n",
    "# explode genres column\n",
    "moviess = data.explode('genre')\n",
    "\n",
    "# group by genres\n",
    "genre_ratings = moviess.groupby(['genre'])['rating'].mean()"
   ]
  },
  {
   "cell_type": "code",
   "execution_count": 17,
   "id": "7dbd4551",
   "metadata": {},
   "outputs": [
    {
     "data": {
      "image/png": "[encoded data removed]",
      "text/plain": [
       "<Figure size 640x480 with 1 Axes>"
      ]
     },
     "metadata": {},
     "output_type": "display_data"
    },
    {
     "data": {
      "text/plain": [
       "genre\n",
       "(no genres listed)    3.326379\n",
       "Action                3.466592\n",
       "Adventure             3.517445\n",
       "Animation             3.614946\n",
       "Children              3.432507\n",
       "Comedy                3.423993\n",
       "Crime                 3.685044\n",
       "Documentary           3.705281\n",
       "Drama                 3.677185\n",
       "Fantasy               3.511589\n",
       "Film-Noir             3.925728\n",
       "Horror                3.293563\n",
       "IMAX                  3.603712\n",
       "Musical               3.554716\n",
       "Mystery               3.670169\n",
       "Romance               3.542712\n",
       "Sci-Fi                3.478143\n",
       "Thriller              3.522964\n",
       "War                   3.791466\n",
       "Western               3.585755\n",
       "Name: rating, dtype: float64"
      ]
     },
     "execution_count": 17,
     "metadata": {},
     "output_type": "execute_result"
    }
   ],
   "source": [
    "genre_ratings.plot(kind='bar', xlabel='Genre', ylabel='Average Rating')\n",
    "plt.show()\n",
    "genre_ratings"
   ]
  },
  {
   "cell_type": "raw",
   "id": "903ff8d2",
   "metadata": {},
   "source": [
    "PREDICTION = OTHER NOTE BOOK BECAUSE I WILL CHANGE THE MOVIES TABLES"
   ]
  },
  {
   "cell_type": "code",
   "execution_count": 70,
   "id": "2db1643f",
   "metadata": {},
   "outputs": [],
   "source": [
    "x=0"
   ]
  },
  {
   "cell_type": "code",
   "execution_count": null,
   "id": "de134fbb",
   "metadata": {},
   "outputs": [],
   "source": []
  },
  {
   "cell_type": "code",
   "execution_count": null,
   "id": "60a2293e",
   "metadata": {},
   "outputs": [],
   "source": []
  }
 ],
 "metadata": {
  "kernelspec": {
   "display_name": "Python 3 (ipykernel)",
   "language": "python",
   "name": "python3"
  },
  "language_info": {
   "codemirror_mode": {
    "name": "ipython",
    "version": 3
   },
   "file_extension": ".py",
   "mimetype": "text/x-python",
   "name": "python",
   "nbconvert_exporter": "python",
   "pygments_lexer": "ipython3",
   "version": "3.9.13"
  }
 },
 "nbformat": 4,
 "nbformat_minor": 5
}
